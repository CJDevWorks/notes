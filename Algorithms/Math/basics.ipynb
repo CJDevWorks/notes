{
    "cells": [
        {
            "cell_type": "markdown",
            "source": [
                "# Basics\r\n"
            ],
            "metadata": {}
        },
        {
            "cell_type": "markdown",
            "source": [
                "## Number Theory\r\n",
                "\r\n"
            ],
            "metadata": {}
        },
        {
            "cell_type": "markdown",
            "source": [
                "\r\n",
                "### Number Digits\r\n",
                "\r\n",
                "### Prime Numbers\r\n",
                "\r\n",
                "    bool prime(int n)\r\n",
                "    {\r\n",
                "        \r\n",
                "    }\r\n",
                "    \r\n",
                "### LCM and HCF\r\n",
                "\r\n",
                "### Factorials\r\n",
                "\r\n",
                "### Modular Arithmetic's\r\n",
                "\r\n",
                "### Iterative Power\r\n"
            ],
            "metadata": {}
        },
        {
            "cell_type": "markdown",
            "source": [
                "## Polynomial Equations\r\n",
                "\r\n",
                "## Central tendency\r\n",
                "\r\n",
                "## Series\r\n",
                "\r\n",
                "### AP formula\r\n",
                "\r\n",
                "    Sum \r\n",
                "    Nth element\r\n",
                "    Infinite series\r\n",
                "\r\n",
                "### GP formula\r\n",
                "\r\n",
                "    when ratio > 1\r\n",
                "    Sum\r\n",
                "    Nth element\r\n",
                "    Infinite series\r\n",
                "\r\n",
                "    when ratio > 1\r\n",
                "    Sum \r\n",
                "    Nth element\r\n",
                "    Infinite series\r\n",
                "\r\n",
                "### HP\r\n",
                "\r\n",
                "    Sum\r\n",
                "    Nth element\r\n",
                "    Infinite series\r\n",
                "\r\n"
            ],
            "metadata": {}
        },
        {
            "cell_type": "markdown",
            "source": [
                "## Permutations and Combinations\r\n",
                "\r\n"
            ],
            "metadata": {}
        },
        {
            "cell_type": "markdown",
            "source": [
                "\r\n",
                "## Probability Theory\r\n",
                "\r\n"
            ],
            "metadata": {}
        },
        {
            "cell_type": "markdown",
            "source": [
                "\r\n",
                "## Game Theory"
            ],
            "metadata": {}
        },
        {
            "cell_type": "markdown",
            "source": [
                "## Matrix\r\n"
            ],
            "metadata": {}
        }
    ],
    "metadata": {
        "orig_nbformat": 4,
        "language_info": {
            "name": "python",
            "version": "3.7.4",
            "mimetype": "text/x-python",
            "codemirror_mode": {
                "name": "ipython",
                "version": 3
            },
            "pygments_lexer": "ipython3",
            "nbconvert_exporter": "python",
            "file_extension": ".py"
        },
        "kernelspec": {
            "name": "python3",
            "display_name": "Python 3.7.4 64-bit ('base': conda)"
        },
        "interpreter": {
            "hash": "2bebf6baa76fc193aafda8a8f0764858b77979e687417dae43e0895b2e906070"
        }
    },
    "nbformat": 4,
    "nbformat_minor": 2
}