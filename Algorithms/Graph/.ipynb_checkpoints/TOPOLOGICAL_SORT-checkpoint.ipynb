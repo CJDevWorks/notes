{
 "cells": [
  {
   "cell_type": "markdown",
   "metadata": {},
   "source": [
    "\n",
    "https://www.thealgorists.com/Algo/TopologicalSort\n",
    "\n",
    "**First challaenge is to represent a directed graph(DAG)** \n",
    "\n",
    "use graph and Adajencency list.\n",
    "How the pre-requisit is stored in graph\n",
    "\n",
    "Topological Sorting is mainly used for scheduling jobs from the given dependencies among jobs. \n",
    "In computer science, applications of this type arise in instruction scheduling, \n",
    "ordering of formula cell evaluation when recomputing formula values in spreadsheets, \n",
    "logic synthesis, determining the order of compilation tasks to perform in make files, \n",
    "data serialization, and resolving symbol dependencies in linkers\n",
    "\n",
    "**whats the difference between DFS and topological sort?**\n",
    "\n",
    "This is because in DFS we print the nodes as we see them, which means when we print a node, \n",
    "it has just been discovered but not yet processed, which means it is in the Visiting state. \n",
    "So DFS gives the order in which the nodes enter the Visiting state and not the Visited state. \n",
    "For topological sorting we need to have the order in which the nodes are completely processed, \n",
    "i.e, the order in which the nodes are marked as Visited. Because when a node is marked Visited then all \n",
    "of its child node have already been processed, so they would be towards the right of the child nodes in \n",
    "the topological sort, as it should be (remember that we are going to reverse the order in which\n",
    "the nodes are marked visited, so that the child nodes go towards the right).\n",
    "\n",
    "\n",
    "Why can’t the DFS result be the same as the topological sort and why would we need to find \n",
    "the sink vertices while doing a DFS to have the topological ordering ?\n",
    "\n",
    "we run topological sort code above on a non DAG\n",
    "\n",
    "\n",
    "**What should we do if we want to output all valid topological orderings of the vertices of a DAG**\n"
   ]
  },
  {
   "cell_type": "markdown",
   "metadata": {},
   "source": [
    "Every DAG has at least one Topological Ordering.\n",
    "        \n",
    "            OR\n",
    "        \n",
    "Graph G has a directed cycle => G has no Topological Ordering"
   ]
  },
  {
   "cell_type": "code",
   "execution_count": 2,
   "metadata": {},
   "outputs": [],
   "source": [
    "# Implementation DFS"
   ]
  },
  {
   "cell_type": "code",
   "execution_count": 3,
   "metadata": {},
   "outputs": [],
   "source": [
    "# Implementation BFS"
   ]
  },
  {
   "cell_type": "code",
   "execution_count": 4,
   "metadata": {},
   "outputs": [],
   "source": [
    "#Time complexity"
   ]
  },
  {
   "cell_type": "code",
   "execution_count": 5,
   "metadata": {},
   "outputs": [],
   "source": [
    "#Space Complexity"
   ]
  },
  {
   "cell_type": "code",
   "execution_count": null,
   "metadata": {},
   "outputs": [],
   "source": [
    "Related Problems \n",
    "    Topological Sort w/ Vertex Relaxation Approach\n",
    "    Finding Longest Paths Using Topological Sort\n",
    "    Course Scheduling"
   ]
  }
 ],
 "metadata": {
  "kernelspec": {
   "display_name": "Python 3",
   "language": "python",
   "name": "python3"
  },
  "language_info": {
   "codemirror_mode": {
    "name": "ipython",
    "version": 3
   },
   "file_extension": ".py",
   "mimetype": "text/x-python",
   "name": "python",
   "nbconvert_exporter": "python",
   "pygments_lexer": "ipython3",
   "version": "3.7.4"
  }
 },
 "nbformat": 4,
 "nbformat_minor": 2
}
