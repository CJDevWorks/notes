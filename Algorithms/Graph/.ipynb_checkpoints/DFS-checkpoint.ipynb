{
 "cells": [
  {
   "cell_type": "markdown",
   "metadata": {},
   "source": [
    "https://www.thealgorists.com/Algo/DFS\n",
    "\n",
    "**While implementing DFS it is important to ensure that the nodes that are visited are marked. This will prevent us from visiting the same node more than once if there is one or more cycle(s). If we do not mark the nodes that are visited and we visit the same node more than once, we may end up in an infinite loop.**\n"
   ]
  },
  {
   "cell_type": "code",
   "execution_count": 2,
   "metadata": {},
   "outputs": [],
   "source": [
    "##**Recursive Implementation**"
   ]
  },
  {
   "cell_type": "markdown",
   "metadata": {},
   "source": [
    "##**Iterative Implementation**\n",
    "\n",
    "This recursive nature of DFS can be implemented using stacks. The basic idea is as follows:\n",
    "    1. Pick a starting node and push all its adjacent nodes into a stack.\n",
    "    2. Pop a node from stack to select the next node to visit and push all its adjacent nodes into a stack.\n",
    "    3. Repeat this process until the stack is empty. \n",
    "    \n",
    "However, ensure that the nodes that are visited are marked. This will prevent you from visiting the same node more than once. If you do not mark the nodes that are visited and you visit the same node more than once, you may end up in an infinite loop.\n"
   ]
  },
  {
   "cell_type": "code",
   "execution_count": null,
   "metadata": {},
   "outputs": [],
   "source": []
  },
  {
   "cell_type": "markdown",
   "metadata": {},
   "source": [
    "**If you have a requirement to implement DFS in POSTORDER manner, implementing iteratively might not be as trivial as implementing recursively. Please take a look at Iterative Postorder Traversal with Single Stack.**\n",
    "\n",
    "I often get this question:\n",
    "What are some types of problems that are much harder to solve in iterative DFS rather than recursive DFS ?\n",
    "\n",
    "Answer: Any problem requiring you to process the current node after finishing DFS on all unvisited nodes in sub-graph rooted at the current node (like, Postorder Traversal) would be, in most cases, harder to implement a solution using iterative DFS as compared to recursive DFS. Take a look at how non-trivial it is to implement Iterative Postorder Traversal as compared to how easy it is to implement Iterative Preorder Traversal."
   ]
  },
  {
   "cell_type": "raw",
   "metadata": {},
   "source": [
    "**Time Complexity**:  O(V + E) -> Adjecency list and O(V^2) : Adjacency Matrix\n",
    "\n",
    "The best way to compute the time complexity would be to think about how many nodes you are processing and how many time you ar processing each nodes. For example, If in our code a node is not visited more than once then a DFS operation would be O(n).\n",
    "\n",
    "As for the |E| part, |E| which represents total number of edges present in the graph, will ultimately be expressed in terms of number of nodes (|V| or n). It depends on whether the graph is dense or sparse. If a graph is dense in most cases you would see that\n",
    "|E| = |V|*|V| = n ^ 2 .\n",
    "\n",
    "It would also depend whether you are representing the graph using Adjacency List or Adjacency Matrix and the way you are implementing them.\n",
    "\n",
    "To give a very general idea:\n",
    "\n",
    "In DFS, you traverse each node exactly once. Therefore, the time complexity of DFS is at least O(V).\n",
    "\n",
    "Now, any additional complexity comes from how you discover all the outgoing paths or edges for each node which, in turn, is dependent on the way your graph is implemented. If an edge leads you to a node that has already been traversed, you skip it and check the next. Typical DFS implementations use a hash table to maintain the list of traversed nodes so that you could find out if a node has been encountered before in O(1) time (constant time).\n",
    "\n",
    "If your graph is implemented as an adjacency matrix (a V x V array), then, for each node, you have to traverse an entire row of length V in the matrix to discover all its outgoing edges. Please note that each row in an adjacency matrix corresponds to a node in the graph, and the said row stores information about edges stemming from the node. So, the complexity of DFS is O(V * V) = O(V^2).\n",
    "\n",
    "If your graph is implemented using adjacency lists, wherein each node maintains a list of all its adjacent edges, then, for each node, you could discover all its neighbors by traversing its adjacency list just once in linear time. For a directed graph, the sum of the sizes of the adjacency lists of all the nodes is E (total number of edges). So, the complexity of DFS is O(V) + O(E) = O(V + E).\n",
    "\n",
    "For an undirected graph, each edge will appear twice in the adjacency list: for an edge AB, A would appear in adjacency list of B, and B would appear in adjacency list of A. So, the overall complexity will be O(V) + O (2E) ~ O(V + E)."
   ]
  },
  {
   "cell_type": "raw",
   "metadata": {},
   "source": [
    "**Space Complexity**: (O(h))\n",
    "    \n",
    "DFS goes along a path all the way down before it backtracks and store all the nodes in the path in the recursion stack. \n",
    "So, the size of the stack would grow as large as the height of the longest path. The space complexity for DFS is O(h) \n",
    "where h is the maximum height of the tree.\n",
    "\n",
    "DFS Edges:\n",
    "A DFS tree is a spanning tree. A spanning tree is a subset of Graph G, which has all the vertices covered with \n",
    "minimum possible number of edges.\n",
    "\n",
    "Based on this spanning tree, the edges of the original graph can be divided into four classes:\n",
    "    1. forward edges: edges which point from a node of the tree to one of its descendants,\n",
    "    2. back edges: edges which point from a node to one of its ancestors. Concept of back edges has direct used in \n",
    "        detecting cycles using DFS.\n",
    "    3. cross edges: edges which connects two node such that they do not have any ancestor and a descendant relationship between them.\n",
    "    4. tree edges: edges which are present in the tree obtained after applying DFS on the graph.\n",
    "\n"
   ]
  },
  {
   "cell_type": "raw",
   "metadata": {},
   "source": [
    "Sample Question List :\n",
    "    Topological Sort\n",
    "    Cycle Detection Using DFS\n",
    "    All Paths Between Two Nodes\n",
    "    Bipartite Graph\n",
    "    Connected Components\n",
    "    Articulation Points\n",
    "    Finding Bridges\n",
    "    Strongly Connected Components (SCC)\n",
    "    How to Send Message to Entire Social Network\n",
    "    Disconnected Network\n",
    "    Critical Connection\n",
    "    Minimal Vertices\n",
    "    Course Scheduling"
   ]
  },
  {
   "cell_type": "code",
   "execution_count": null,
   "metadata": {},
   "outputs": [],
   "source": []
  }
 ],
 "metadata": {
  "kernelspec": {
   "display_name": "Python 3",
   "language": "python",
   "name": "python3"
  },
  "language_info": {
   "codemirror_mode": {
    "name": "ipython",
    "version": 3
   },
   "file_extension": ".py",
   "mimetype": "text/x-python",
   "name": "python",
   "nbconvert_exporter": "python",
   "pygments_lexer": "ipython3",
   "version": "3.7.4"
  }
 },
 "nbformat": 4,
 "nbformat_minor": 2
}
