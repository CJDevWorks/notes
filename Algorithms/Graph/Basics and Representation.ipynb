{
 "cells": [
  {
   "cell_type": "markdown",
   "metadata": {},
   "source": [
    "***REPRESENTATION***\n",
    "\n",
    "   **Adjacency List** \n",
    "    [\n",
    "     1 --> [2,3]\n",
    "     2 --> [1,3]\n",
    "     3 --> [1,2]\n",
    "    ]  \n",
    "\n",
    "\n",
    "   **Adjacency Matrix**\n",
    "        [    1  2  3\n",
    "          1  0  1  1\n",
    "          2  1     1\n",
    "          3  1  1  0 ]\n",
    "\n",
    "   **Edge List**  [ (1,2), (2,3), (3,1)]\n",
    "\n",
    "   **Incidence Matrix**: (to represent the directed graphs)\n",
    " \n",
    "***Graphs with weights*** :\n",
    " \n",
    " **Adjacency List** \n",
    " [\n",
    "  1 --> [(2, w1),(3, w3)]\n",
    "  2 --> [(1, w1), (3, w2)]\n",
    "  3 --> [(1, w3),(2, w2)]\n",
    " ]  \n",
    "                \n",
    "\n",
    "**Adjacency Matrix**\n",
    "    [    1  2  3\n",
    "      1  0  w1 w3\n",
    "      2  w1    w2\n",
    "      3  w3 w2 0 ]\n",
    "      \n",
    "***Directed Graphs*** :\n",
    "1. Adjacency list will contain only one entry (1->2) and will not contain entry (2,1). Same applies for directed weighted graphs (just add weights)\n",
    "2. Adjacency matrix will contain only one entry in matrix where row-> column (1->2). Same applies for directed weighted graphs (just add weights) \n"
   ]
  },
  {
   "cell_type": "code",
   "execution_count": null,
   "metadata": {},
   "outputs": [],
   "source": [
    "class Node"
   ]
  }
 ],
 "metadata": {
  "kernelspec": {
   "display_name": "Python 3",
   "language": "python",
   "name": "python3"
  },
  "language_info": {
   "codemirror_mode": {
    "name": "ipython",
    "version": 3
   },
   "file_extension": ".py",
   "mimetype": "text/x-python",
   "name": "python",
   "nbconvert_exporter": "python",
   "pygments_lexer": "ipython3",
   "version": "3.7.4"
  }
 },
 "nbformat": 4,
 "nbformat_minor": 2
}
