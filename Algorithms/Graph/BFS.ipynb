{
 "cells": [
  {
   "cell_type": "markdown",
   "metadata": {},
   "source": [
    "You could think of Breadth First Search as level order search where the nodes in a tree or graph are discovered level by level\n",
    "starting from the starting node.\n",
    "\n"
   ]
  },
  {
   "cell_type": "code",
   "execution_count": 2,
   "metadata": {},
   "outputs": [],
   "source": [
    "#Implementation"
   ]
  },
  {
   "cell_type": "raw",
   "metadata": {},
   "source": [
    "**Time Complexity**\n",
    "\n",
    "Time complexity of BFS = O(|V| + |E|), if the graph is implemented using Adjacency List.\n",
    "|V| = total number of vertices in the graph,\n",
    "|E| = total number of edges in the given graph.\n",
    "\n",
    "If your graph is implemented using adjacency lists, wherein each node maintains a list of all its adjacent edges, then, for each node, you could discover all its neighbors by traversing its adjacency list just once in linear time. For a directed graph, the sum of the sizes of the adjacency lists of all the nodes is E (total number of edges). So, the complexity of BFS is O(|V|) + O(|E|) = O(|V| + |E|).\n",
    "\n",
    "For an undirected graph, each edge will appear twice in the adjacency list: for an edge A-B, A would appear in adjacency list of B, and B would appear in adjacency list of A. So, the overall complexity will be O(|V|) + O (2|E|) = O(|V| + |E|).\n",
    "\n",
    "Note that O(|E|) may vary between O(1) and O(|V|2), depending on how sparse the input graph is.\n",
    "\n",
    "In best case: the given graph would have a null graph with no edges. So O(|V| + |E|) = O(|V| + |1|) = O(|V|) .\n",
    "\n",
    "\n",
    "In average case, the given graph is moderately sparse. So, O(|E|) = O(|V|).\n",
    "Therefore, O(|V| + |E|) = O(|V| + |V|) = O(|V|)\n",
    "\n",
    "In worst case, given graph is dense. So, O(|E|) = O(|V2|) .\n",
    "Therefore, O(|V| + |E|) = O(|V| + |V2|) = O(|V2|) .\n",
    "\n",
    "Time Complexity of BFS = O(|V|2), if the graph is implemented using Adjacency Matrix.\n",
    "\n",
    "If your graph is implemented as an adjacency matrix (a V x V array), then, for each node, you have to traverse an entire row of length V in the matrix to discover all its outgoing edges. Please note that each row in an adjacency matrix corresponds to a node in the graph, and the said row stores information about edges stemming from the node. So, the complexity of BFS is O(V * V) = O(V^2).\n",
    "We could also express the time complexity in terms of branching factor and distance between source and destination measured in number of edge traversals.\n",
    "If b = branching factor, and d = depth of the tree or graph from source to destination,\n",
    "time complexity of BFS = O(bd)\n"
   ]
  },
  {
   "cell_type": "raw",
   "metadata": {},
   "source": [
    "**Space Complexity**\n",
    "\n",
    "We store all nodes level by level in queue starting from source node until we find the destination node or have searched all nodes reachable from source.\n",
    "Space Complexity: O(|V|), where |V| = total number of nodes in the graph.\n",
    "\n",
    "Since, O(|V|) = O(bd)\n",
    "Space Complexity = O(bd), where b = branching factor, d = depth of tree or graph between source and destination.\n",
    "\n",
    "Give it a little thought and you would realize that the BFS path between source and destination is also the shortest path between source and destination.\n"
   ]
  },
  {
   "cell_type": "raw",
   "metadata": {},
   "source": [
    "**BFS VS DFS**\n",
    "\n",
    "BFS stores all the nodes level by level (till they are processed). For an average graph this might mean requiring larger space compared to DFS. BFS uses a larger amount of memory because it expands all children of a vertex and keeps them in memory.\n",
    "\n",
    "BFS is going to use more memory depending on the branching factor.\n",
    "Space complexity of BFS is O((branching factor) ^ (distance from source to destination)) as we have seen above.\n",
    "If a graph is super wide and the goal state is not guaranteed to be closer to the start node then we need to think twice before performing a BFS, since that might not give optimal result.\n",
    "\n",
    "BFS is better when target is closer to Source (like, looking for first degree and second degree connections in Facebook Friends network, or LinkedIn Connection Network). DFS is better when target is far from source (example: DFS is suitable for decision tree used in puzzle games).\n",
    "\n",
    "If you know a solution is not far from the start node, BFS would be better in most cases.\n",
    "If solutions are located deep in the tree or graph, BFS could be impractical.\n",
    "\n",
    "If you are looking to learn more about Breadth First Search, please take a look at TWO END BFS.\n",
    "\n",
    "BFS is used only in Undirected Graphs to determine whether there is a cycle or loop in it by examining if there is a cross-edge. Showing that there is a cross-edge while doing a BFS on Directed graph does not prove that the Directed Graph has a cycle.\n",
    "\n",
    "If your graph is directed then you have to not just remember if you have visited a node or not, but also how you got there. Otherwise you might think you have found a cycle but in reality all you have is two separate paths A->B but that doesn’t mean there is a path B->A. "
   ]
  },
  {
   "cell_type": "markdown",
   "metadata": {},
   "source": [
    "related problems :\n",
    "    \n",
    "    TWO END BFS\n",
    "    Web Crawling\n",
    "    Word Break\n",
    "    Topological Sort\n",
    "    4 Ways to Finding Cycles\n",
    "    All Paths Between Two Nodes\n",
    "    Bipartite Graph\n",
    "    Binary Tree (De)Serialization\n",
    "    N-Ary Tree (De)Serialization"
   ]
  },
  {
   "cell_type": "code",
   "execution_count": 6,
   "metadata": {},
   "outputs": [],
   "source": [
    "#Implementation TWO END BFS"
   ]
  },
  {
   "cell_type": "code",
   "execution_count": 7,
   "metadata": {},
   "outputs": [],
   "source": [
    "#Imlementation Web Crawling"
   ]
  },
  {
   "cell_type": "code",
   "execution_count": null,
   "metadata": {},
   "outputs": [],
   "source": []
  }
 ],
 "metadata": {
  "kernelspec": {
   "display_name": "Python 3",
   "language": "python",
   "name": "python3"
  },
  "language_info": {
   "codemirror_mode": {
    "name": "ipython",
    "version": 3
   },
   "file_extension": ".py",
   "mimetype": "text/x-python",
   "name": "python",
   "nbconvert_exporter": "python",
   "pygments_lexer": "ipython3",
   "version": "3.7.4"
  }
 },
 "nbformat": 4,
 "nbformat_minor": 2
}
